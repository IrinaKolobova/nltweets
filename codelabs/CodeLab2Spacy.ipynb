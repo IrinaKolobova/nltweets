{
 "cells": [
  {
   "cell_type": "markdown",
   "metadata": {},
   "source": [
    "## CodeLab 1.1: Exploring Spacy's Entity and Dependency Parsers--NLTweets"
   ]
  },
  {
   "cell_type": "markdown",
   "metadata": {},
   "source": [
    "Using the same workflow as in CodeLab1Spacy, we start by listing the working directory's contents to verify the file we need is available to future cells:"
   ]
  },
  {
   "cell_type": "code",
   "execution_count": 1,
   "metadata": {},
   "outputs": [
    {
     "name": "stdout",
     "output_type": "stream",
     "text": [
      " Volume in drive C has no label.\n",
      " Volume Serial Number is 44BF-F5C5\n",
      "\n",
      " Directory of C:\\Users\\Joshf\\Documents\\nltweets\\codelabs\n",
      "\n",
      "04/24/2019  11:00 PM    <DIR>          .\n",
      "04/24/2019  11:00 PM    <DIR>          ..\n",
      "04/24/2019  10:05 PM    <DIR>          .ipynb_checkpoints\n",
      "03/17/2019  01:54 PM            79,235 ClassificationExperiment.ipynb\n",
      "03/16/2019  12:43 PM            32,883 CodeLab0TwitterAPI.ipynb\n",
      "04/22/2019  03:13 PM            17,559 CodeLab1Spacy.ipynb\n",
      "04/24/2019  11:00 PM            72,662 CodeLab2Spacy.ipynb\n",
      "04/22/2019  03:13 PM           326,119 corpus.txt\n",
      "03/17/2019  01:54 PM               178 creds.txt\n",
      "03/03/2019  05:21 PM           145,906 labeled_tweets.csv\n",
      "               7 File(s)        674,542 bytes\n",
      "               3 Dir(s)  66,688,348,160 bytes free\n"
     ]
    }
   ],
   "source": [
    "ls"
   ]
  },
  {
   "cell_type": "markdown",
   "metadata": {},
   "source": [
    "This time, in order to be able to extract either the beginning or ending lines in the file for review, we'll assign the count of the lines in the text file and assign it to the variable \"num.\" Then we'll proceed as before by assigning the opening of the file to a variable \"f\" and print out the lines we want with the 0-based index."
   ]
  },
  {
   "cell_type": "code",
   "execution_count": 2,
   "metadata": {},
   "outputs": [
    {
     "name": "stdout",
     "output_type": "stream",
     "text": [
      "b\"It's #NYE, celebrate with family - not with us. Plan to take public transportation, taxi service or designate a sober driver. Find out more about taking public transportation @sfmta_muni. #SFPD #DontDrinkAndDrive #SF #Newyear #happynewyear2019 https://t.co/yD7iGMc1z0\"\n",
      "\n",
      "b'Reminder: You can now Ride #SFMuni Free until 5 a.m. tomorrow. Remember, do not tag your Clipper Card or activate your #MuniMobile ticket during the free service period. https://t.co/fIhbjdEXkg https://t.co/qtSuigqqWR'\n",
      "\n",
      "b\"It's #NYE, celebrate with family - not with us. Plan to take public transportation, taxi service or designate a sober driver. Find out more about taking public transportation @sfmta_muni. #SFPD #DontDrinkAndDrive #SF #Newyear #happynewyear2019 https://t.co/yD7iGMc1z0\"\n",
      "\n",
      "b'.@sfmta_muni = FREE\\n@rideact = FREE\\n@Caltrain = FREE\\n@SFBART = NOT FREE (but there will be special service until 3 a.m.)\\n\\nhttps://t.co/wZWiCFsHhS'\n",
      "\n",
      "b\"It's #NYE, celebrate with family - not with us. Plan to take public transportation, taxi service or designate a sober driver. Find out more about taking public transportation @sfmta_muni. #SFPD #DontDrinkAndDrive #SF #Newyear #happynewyear2019 https://t.co/yD7iGMc1z0\"\n",
      "\n",
      "b'Have fun, stay warm, &amp; be safe on New Year\\xe2\\x80\\x99s Eve. Dress in layers for the chilly &amp; windy San Francisco weather. Consider wearing a warm hat &amp; a pair of gloves. Take public transit such as @sfmta_muni or @SFBART to watch the fireworks at the Embarcadero. https://t.co/flgGFfSFGh'\n",
      "\n",
      "b'Reminder: You can now Ride #SFMuni Free until 5 a.m. tomorrow. Remember, do not tag your Clipper Card or activate your #MuniMobile ticket during the free service period. https://t.co/fIhbjdEXkg https://t.co/qtSuigqqWR'\n",
      "\n",
      "b\"It's #NYE, celebrate with family - not with us. Plan to take public transportation, taxi service or designate a sober driver. Find out more about taking public transportation @sfmta_muni. #SFPD #DontDrinkAndDrive #SF #Newyear #happynewyear2019 https://t.co/EJOnYI17qZ\"\n",
      "\n",
      "b'Reminder: You can now Ride #SFMuni Free until 5 a.m. tomorrow. Remember, do not tag your Clipper Card or activate your #MuniMobile ticket during the free service period. https://t.co/fIhbjdEXkg https://t.co/qtSuigqqWR'\n",
      "\n",
      "b'Have fun, stay warm, &amp; be safe on New Year\\xe2\\x80\\x99s Eve. Dress in layers for the chilly &amp; windy San Francisco weather. Consider wearing a warm hat &amp; a pair of gloves. Take public transit such as @sfmta_muni or @SFBART to watch the fireworks at the Embarcadero. https://t.co/flgGFfSFGh'\n",
      "\n"
     ]
    }
   ],
   "source": [
    "file  = 'corpus.txt'\n",
    "num = len(open(file).readlines())\n",
    "with open(file) as f:\n",
    "    for line in f.readlines()[num-10:]:\n",
    "        print(line)"
   ]
  },
  {
   "cell_type": "markdown",
   "metadata": {},
   "source": [
    "We'll extract a subset of the file and save in the variable \"lines.\""
   ]
  },
  {
   "cell_type": "code",
   "execution_count": 3,
   "metadata": {},
   "outputs": [
    {
     "name": "stdout",
     "output_type": "stream",
     "text": [
      "Have fun, stay warm, &amp; be safe on New Year\\xe2\\x80\\x99s Eve. Dress in layers for the chilly &amp; windy San Francisco weather. Consider wearing a warm hat &amp; a pair of gloves. Take public transit such as @sfmta_muni or @SFBART to watch the fireworks at the Embarcadero. https://t.co/flgGFfSFGh\n",
      "Reminder: You can now Ride #SFMuni Free until 5 a.m. tomorrow. Remember, do not tag your Clipper Card or activate your #MuniMobile ticket during the free service period. https://t.co/fIhbjdEXkg https://t.co/qtSuigqqWR\n",
      "It's #NYE, celebrate with family - not with us. Plan to take public transportation, taxi service or designate a sober driver. Find out more about taking public transportation @sfmta_muni. #SFPD #DontDrinkAndDrive #SF #Newyear #happynewyear2019 https://t.co/EJOnYI17qZ\n",
      "Reminder: You can now Ride #SFMuni Free until 5 a.m. tomorrow. Remember, do not tag your Clipper Card or activate your #MuniMobile ticket during the free service period. https://t.co/fIhbjdEXkg https://t.co/qtSuigqqWR\n",
      "Have fun, stay warm, &amp; be safe on New Year\\xe2\\x80\\x99s Eve. Dress in layers for the chilly &amp; windy San Francisco weather. Consider wearing a warm hat &amp; a pair of gloves. Take public transit such as @sfmta_muni or @SFBART to watch the fireworks at the Embarcadero. https://t.co/flgGFfSFGh\n"
     ]
    }
   ],
   "source": [
    "lines = []\n",
    "with open(file) as f:\n",
    "    for line in f.readlines():\n",
    "        lines.append(line)\n",
    "        \n",
    "for index, line in enumerate(lines):\n",
    "    lines[index] = line[2:-2]\n",
    "\n",
    "for line in lines[num-5:]:\n",
    "    print(line)"
   ]
  },
  {
   "cell_type": "markdown",
   "metadata": {},
   "source": [
    "This time we're going to use a different language model in order to take advantage of spacy's [dependency parser](https://spacy.io/usage/linguistic-features)."
   ]
  },
  {
   "cell_type": "code",
   "execution_count": 4,
   "metadata": {},
   "outputs": [
    {
     "name": "stdout",
     "output_type": "stream",
     "text": [
      "Requirement already satisfied: en_core_web_sm==2.0.0 from https://github.com/explosion/spacy-models/releases/download/en_core_web_sm-2.0.0/en_core_web_sm-2.0.0.tar.gz#egg=en_core_web_sm==2.0.0 in c:\\users\\joshf\\appdata\\local\\continuum\\anaconda3\\envs\\nltweets\\lib\\site-packages (2.0.0)\n",
      "symbolic link created for C:\\Users\\Joshf\\AppData\\Local\\Continuum\\anaconda3\\envs\\nltweets\\lib\\site-packages\\spacy\\data\\en_core_web_sm <<===>> C:\\Users\\Joshf\\AppData\\Local\\Continuum\\anaconda3\\envs\\nltweets\\lib\\site-packages\\en_core_web_sm\n",
      "\n",
      "    Linking successful\n",
      "    C:\\Users\\Joshf\\AppData\\Local\\Continuum\\anaconda3\\envs\\nltweets\\lib\\site-packages\\en_core_web_sm\n",
      "    -->\n",
      "    C:\\Users\\Joshf\\AppData\\Local\\Continuum\\anaconda3\\envs\\nltweets\\lib\\site-packages\\spacy\\data\\en_core_web_sm\n",
      "\n",
      "    You can now load the model via spacy.load('en_core_web_sm')\n",
      "\n"
     ]
    }
   ],
   "source": [
    "!python -m spacy download en_core_web_sm"
   ]
  },
  {
   "cell_type": "code",
   "execution_count": 5,
   "metadata": {},
   "outputs": [],
   "source": [
    "import spacy\n",
    "from spacy import displacy\n",
    "\n",
    "nlp = spacy.load('en_core_web_sm')"
   ]
  },
  {
   "cell_type": "code",
   "execution_count": 6,
   "metadata": {},
   "outputs": [
    {
     "data": {
      "text/plain": [
       "[('tagger', <spacy.pipeline.Tagger at 0x1fadaaf0f60>),\n",
       " ('parser', <spacy.pipeline.DependencyParser at 0x1fadab7bfc0>),\n",
       " ('ner', <spacy.pipeline.EntityRecognizer at 0x1fadac680a0>)]"
      ]
     },
     "execution_count": 6,
     "metadata": {},
     "output_type": "execute_result"
    }
   ],
   "source": [
    "nlp.pipeline"
   ]
  },
  {
   "cell_type": "markdown",
   "metadata": {},
   "source": [
    "Let's look at the third example in the dataset:"
   ]
  },
  {
   "cell_type": "code",
   "execution_count": 23,
   "metadata": {},
   "outputs": [
    {
     "data": {
      "text/plain": [
       "'@sfmta_muni pls send out the 31.'"
      ]
     },
     "execution_count": 23,
     "metadata": {},
     "output_type": "execute_result"
    }
   ],
   "source": [
    "lines[11]"
   ]
  },
  {
   "cell_type": "markdown",
   "metadata": {},
   "source": [
    "By implementing the spacy pipeline method"
   ]
  },
  {
   "cell_type": "code",
   "execution_count": 24,
   "metadata": {},
   "outputs": [],
   "source": [
    "doc = nlp(lines[11])"
   ]
  },
  {
   "cell_type": "code",
   "execution_count": 25,
   "metadata": {},
   "outputs": [
    {
     "name": "stdout",
     "output_type": "stream",
     "text": [
      "@sfmta_muni VERB VB punct @xxxx_xxxx False False\n",
      "pls INTJ UH intj xxx True False\n",
      "send VERB VB ROOT xxxx True False\n",
      "out PART RP prt xxx True True\n",
      "the DET DT det xxx True True\n",
      "31 NUM CD dobj dd False False\n",
      ". PUNCT . punct . False False\n"
     ]
    }
   ],
   "source": [
    "for token in doc:\n",
    "    print(token.text, token.pos_, token.tag_, token.dep_,\n",
    "            token.shape_, token.is_alpha, token.is_stop)"
   ]
  },
  {
   "cell_type": "markdown",
   "metadata": {},
   "source": [
    "An interesting tool for exploring entities is the displacy style parameter's \"ent\" attribute. It's far from perfect, as you can see in the next cell, but with a domain specific dictionary (perhaps in the next CodeLab) it could be made more robust. "
   ]
  },
  {
   "cell_type": "code",
   "execution_count": 26,
   "metadata": {},
   "outputs": [
    {
     "data": {
      "text/html": [
       "<div class=\"entities\" style=\"line-height: 2.5\">@sfmta_muni pls send out the \n",
       "<mark class=\"entity\" style=\"background: #e4e7d2; padding: 0.45em 0.6em; margin: 0 0.25em; line-height: 1; border-radius: 0.35em; box-decoration-break: clone; -webkit-box-decoration-break: clone\">\n",
       "    31\n",
       "    <span style=\"font-size: 0.8em; font-weight: bold; line-height: 1; border-radius: 0.35em; text-transform: uppercase; vertical-align: middle; margin-left: 0.5rem\">CARDINAL</span>\n",
       "</mark>\n",
       ".</div>"
      ],
      "text/plain": [
       "<IPython.core.display.HTML object>"
      ]
     },
     "metadata": {},
     "output_type": "display_data"
    }
   ],
   "source": [
    "displacy.render(doc, style=\"ent\", jupyter=True)"
   ]
  },
  {
   "cell_type": "markdown",
   "metadata": {},
   "source": [
    "At first glance, it looks like the the parts-of-speech (POS) tagger and the entity parser in displacy use a different nomenclature, since the number 24 is identified as \"NUM\" by the tokenizer and \"CARDINAL\" by the entity parser, but the entity parser is classifying the \"NUM\" further, and chooses among other possibilities such as \"PERCENT\" and \"DATE.\"  \n",
    "\n",
    "This is where domain context becomes important. The [OpenTransit](https://codeforsanfrancisco.org/projects/opentransit/) project at Code for San Francisco is focused on improving transit performance, and they are interested in which routes people are talking about. Most of these routes are identified by a number, such as in the above case the \"24.\" As volunteers spend time labeling tweets, they will become subject matter experts (SME) to some degree, and be familiar with all the different ways a rider might refer to a transit route, e.g. \"the 24\" or \"a IB 30\" or \"another outbound 14R.\" \n",
    "\n",
    "We are beginning to see how a learning function might assist in improving both precision and recall by looking for words like \"the\" and \"a\" adjacent to the use of a number like \"24\" or \"30.\" To be more specific, we want to find occurrences of DET words adjacent prior to CARDINAL words. We'd probably have greater confidence if the CARDINAL words were followed by words like \"route\" or \"line.\" Other words like \"IB\" \\[inbound\\] or \"northbound\" would also be of interest, and would likely appear between the words we otherwise require to be adjacent.\n",
    "\n",
    "A great tool for exploring the semantic relationship of words in a sentence is the \"displacy.render\" method. This visualization will draw arrows from one word to another in addition to labeling the POS. "
   ]
  },
  {
   "cell_type": "code",
   "execution_count": 27,
   "metadata": {},
   "outputs": [
    {
     "data": {
      "text/html": [
       "<svg xmlns=\"http://www.w3.org/2000/svg\" xmlns:xlink=\"http://www.w3.org/1999/xlink\" id=\"63-0\" class=\"displacy\" width=\"1100\" height=\"399.5\" style=\"max-width: none; height: 399.5px; color: #000000; background: #ffffff; font-family: Arial\">\n",
       "<text class=\"displacy-token\" fill=\"currentColor\" text-anchor=\"middle\" y=\"309.5\">\n",
       "    <tspan class=\"displacy-word\" fill=\"currentColor\" x=\"50\">@sfmta_muni</tspan>\n",
       "    <tspan class=\"displacy-tag\" dy=\"2em\" fill=\"currentColor\" x=\"50\">VERB</tspan>\n",
       "</text>\n",
       "\n",
       "<text class=\"displacy-token\" fill=\"currentColor\" text-anchor=\"middle\" y=\"309.5\">\n",
       "    <tspan class=\"displacy-word\" fill=\"currentColor\" x=\"225\">pls</tspan>\n",
       "    <tspan class=\"displacy-tag\" dy=\"2em\" fill=\"currentColor\" x=\"225\">INTJ</tspan>\n",
       "</text>\n",
       "\n",
       "<text class=\"displacy-token\" fill=\"currentColor\" text-anchor=\"middle\" y=\"309.5\">\n",
       "    <tspan class=\"displacy-word\" fill=\"currentColor\" x=\"400\">send</tspan>\n",
       "    <tspan class=\"displacy-tag\" dy=\"2em\" fill=\"currentColor\" x=\"400\">VERB</tspan>\n",
       "</text>\n",
       "\n",
       "<text class=\"displacy-token\" fill=\"currentColor\" text-anchor=\"middle\" y=\"309.5\">\n",
       "    <tspan class=\"displacy-word\" fill=\"currentColor\" x=\"575\">out</tspan>\n",
       "    <tspan class=\"displacy-tag\" dy=\"2em\" fill=\"currentColor\" x=\"575\">PART</tspan>\n",
       "</text>\n",
       "\n",
       "<text class=\"displacy-token\" fill=\"currentColor\" text-anchor=\"middle\" y=\"309.5\">\n",
       "    <tspan class=\"displacy-word\" fill=\"currentColor\" x=\"750\">the</tspan>\n",
       "    <tspan class=\"displacy-tag\" dy=\"2em\" fill=\"currentColor\" x=\"750\">DET</tspan>\n",
       "</text>\n",
       "\n",
       "<text class=\"displacy-token\" fill=\"currentColor\" text-anchor=\"middle\" y=\"309.5\">\n",
       "    <tspan class=\"displacy-word\" fill=\"currentColor\" x=\"925\">31.</tspan>\n",
       "    <tspan class=\"displacy-tag\" dy=\"2em\" fill=\"currentColor\" x=\"925\">NUM</tspan>\n",
       "</text>\n",
       "\n",
       "<g class=\"displacy-arrow\">\n",
       "    <path class=\"displacy-arc\" id=\"arrow-63-0-0\" stroke-width=\"2px\" d=\"M70,264.5 C70,89.5 395.0,89.5 395.0,264.5\" fill=\"none\" stroke=\"currentColor\"/>\n",
       "    <text dy=\"1.25em\" style=\"font-size: 0.8em; letter-spacing: 1px\">\n",
       "        <textPath xlink:href=\"#arrow-63-0-0\" class=\"displacy-label\" startOffset=\"50%\" fill=\"currentColor\" text-anchor=\"middle\">punct</textPath>\n",
       "    </text>\n",
       "    <path class=\"displacy-arrowhead\" d=\"M70,266.5 L62,254.5 78,254.5\" fill=\"currentColor\"/>\n",
       "</g>\n",
       "\n",
       "<g class=\"displacy-arrow\">\n",
       "    <path class=\"displacy-arc\" id=\"arrow-63-0-1\" stroke-width=\"2px\" d=\"M245,264.5 C245,177.0 390.0,177.0 390.0,264.5\" fill=\"none\" stroke=\"currentColor\"/>\n",
       "    <text dy=\"1.25em\" style=\"font-size: 0.8em; letter-spacing: 1px\">\n",
       "        <textPath xlink:href=\"#arrow-63-0-1\" class=\"displacy-label\" startOffset=\"50%\" fill=\"currentColor\" text-anchor=\"middle\">intj</textPath>\n",
       "    </text>\n",
       "    <path class=\"displacy-arrowhead\" d=\"M245,266.5 L237,254.5 253,254.5\" fill=\"currentColor\"/>\n",
       "</g>\n",
       "\n",
       "<g class=\"displacy-arrow\">\n",
       "    <path class=\"displacy-arc\" id=\"arrow-63-0-2\" stroke-width=\"2px\" d=\"M420,264.5 C420,177.0 565.0,177.0 565.0,264.5\" fill=\"none\" stroke=\"currentColor\"/>\n",
       "    <text dy=\"1.25em\" style=\"font-size: 0.8em; letter-spacing: 1px\">\n",
       "        <textPath xlink:href=\"#arrow-63-0-2\" class=\"displacy-label\" startOffset=\"50%\" fill=\"currentColor\" text-anchor=\"middle\">prt</textPath>\n",
       "    </text>\n",
       "    <path class=\"displacy-arrowhead\" d=\"M565.0,266.5 L573.0,254.5 557.0,254.5\" fill=\"currentColor\"/>\n",
       "</g>\n",
       "\n",
       "<g class=\"displacy-arrow\">\n",
       "    <path class=\"displacy-arc\" id=\"arrow-63-0-3\" stroke-width=\"2px\" d=\"M770,264.5 C770,177.0 915.0,177.0 915.0,264.5\" fill=\"none\" stroke=\"currentColor\"/>\n",
       "    <text dy=\"1.25em\" style=\"font-size: 0.8em; letter-spacing: 1px\">\n",
       "        <textPath xlink:href=\"#arrow-63-0-3\" class=\"displacy-label\" startOffset=\"50%\" fill=\"currentColor\" text-anchor=\"middle\">det</textPath>\n",
       "    </text>\n",
       "    <path class=\"displacy-arrowhead\" d=\"M770,266.5 L762,254.5 778,254.5\" fill=\"currentColor\"/>\n",
       "</g>\n",
       "\n",
       "<g class=\"displacy-arrow\">\n",
       "    <path class=\"displacy-arc\" id=\"arrow-63-0-4\" stroke-width=\"2px\" d=\"M420,264.5 C420,2.0 925.0,2.0 925.0,264.5\" fill=\"none\" stroke=\"currentColor\"/>\n",
       "    <text dy=\"1.25em\" style=\"font-size: 0.8em; letter-spacing: 1px\">\n",
       "        <textPath xlink:href=\"#arrow-63-0-4\" class=\"displacy-label\" startOffset=\"50%\" fill=\"currentColor\" text-anchor=\"middle\">dobj</textPath>\n",
       "    </text>\n",
       "    <path class=\"displacy-arrowhead\" d=\"M925.0,266.5 L933.0,254.5 917.0,254.5\" fill=\"currentColor\"/>\n",
       "</g>\n",
       "</svg>"
      ],
      "text/plain": [
       "<IPython.core.display.HTML object>"
      ]
     },
     "metadata": {},
     "output_type": "display_data"
    }
   ],
   "source": [
    "displacy.render(doc, style=\"dep\", jupyter=True)"
   ]
  },
  {
   "cell_type": "markdown",
   "metadata": {},
   "source": [
    "If it's a little cramped inline within a notebook, spacy can also spin up a local server to display visualizations in a dedicated browser tab:"
   ]
  },
  {
   "cell_type": "code",
   "execution_count": null,
   "metadata": {},
   "outputs": [
    {
     "name": "stdout",
     "output_type": "stream",
     "text": [
      "\n",
      "    Serving on port 5000...\n",
      "    Using the 'dep' visualizer\n",
      "\n"
     ]
    },
    {
     "name": "stderr",
     "output_type": "stream",
     "text": [
      "127.0.0.1 - - [24/Apr/2019 22:14:35] \"GET / HTTP/1.1\" 200 40829\n",
      "127.0.0.1 - - [24/Apr/2019 22:14:35] \"GET /favicon.ico HTTP/1.1\" 200 40829\n"
     ]
    }
   ],
   "source": [
    "sentence_spans = list(doc.sents)\n",
    "displacy.serve(sentence_spans, style=\"dep\")"
   ]
  },
  {
   "cell_type": "markdown",
   "metadata": {},
   "source": [
    "To view it, open a browser tab to that port: [http://localhost:5000/](http://localhost:5000/)"
   ]
  },
  {
   "cell_type": "markdown",
   "metadata": {},
   "source": [
    "In the next CodeLab, we'll implement custom components and pipeline in spacy similar to [this example](https://spacy.io/usage/processing-pipelines#component-example2) and create some learning functions based on the dependency parser information we have access to."
   ]
  }
 ],
 "metadata": {
  "kernelspec": {
   "display_name": "Python 3",
   "language": "python",
   "name": "python3"
  },
  "language_info": {
   "codemirror_mode": {
    "name": "ipython",
    "version": 3
   },
   "file_extension": ".py",
   "mimetype": "text/x-python",
   "name": "python",
   "nbconvert_exporter": "python",
   "pygments_lexer": "ipython3",
   "version": "3.6.0"
  }
 },
 "nbformat": 4,
 "nbformat_minor": 2
}
