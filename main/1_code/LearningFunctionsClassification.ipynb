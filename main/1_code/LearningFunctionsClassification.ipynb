{
  "nbformat": 4,
  "nbformat_minor": 0,
  "metadata": {
    "colab": {
      "name": "LearningFunctionsnClassification.ipynb",
      "version": "0.3.2",
      "provenance": []
    },
    "kernelspec": {
      "name": "python3",
      "display_name": "Python 3"
    }
  },
  "cells": [
    {
      "metadata": {
        "id": "yOuZPhd8gBER",
        "colab_type": "code",
        "colab": {}
      },
      "cell_type": "code",
      "source": [
        "def append_plurals(keywords):\n",
        "    results = []\n",
        "    for keyword in keywords:\n",
        "        if keyword[-1] == \"s\":\n",
        "            results.append(keyword + \"es\")\n",
        "        else:\n",
        "            results.append(keyword + \"s\")\n",
        "    return set(results)\n",
        "\n",
        "def has_bike_keywords(x):\n",
        "    keywords = set([\"bike\", \"bicycle\", \"lane\", \"bikelane\", \"cyclist\", \"@FordGoBike\", \"@sfbike\"])\n",
        "    keywords = append_plurals(keywords)\n",
        "    for token in x.strip().split():\n",
        "        if token in keywords:\n",
        "            return True\n",
        "    return False\n",
        "\n",
        "def has_parking_keywords(x):\n",
        "    keywords = set([\"park\", \"parking\", \"sidewalk\"])\n",
        "    keywords = append_plurals(keywords)\n",
        "    for token in x.strip().split():\n",
        "        if token in keywords:\n",
        "            return True\n",
        "    return False\n",
        "\n",
        "def has_safety_keywords(x):\n",
        "    keywords = set([\"death\", \"deadly\", \"danger\", \"safety\", \"safe\", \"risk\", \"fatality\", \"fatalie\", \"dangerous\"])\n",
        "    keywords = append_plurals(keywords)\n",
        "    for token in x.strip().split():\n",
        "        if token in keywords:\n",
        "            return True\n",
        "    return False\n",
        "    \n",
        "def has_car_keywords(x):\n",
        "    keywords = set(\"motorist\", \"car\", \"vehicle\", \"van\", \"truck\")\n",
        "    keywords = append_plurals(keywords)\n",
        "    for token in x.strip().split():\n",
        "        if token in keywords:\n",
        "            return True\n",
        "    return False\n",
        "\n",
        "def has_block_keywords(x):\n",
        "    keywords = set(\"block\", \"blocking\", \"blocked\")\n",
        "    keywords = append_plurals(keywords)\n",
        "    for token in x.strip().split():\n",
        "        if token in keywords:\n",
        "            return True\n",
        "    return False"
      ],
      "execution_count": 0,
      "outputs": []
    },
    {
      "metadata": {
        "id": "T6n52knQib28",
        "colab_type": "code",
        "colab": {}
      },
      "cell_type": "code",
      "source": [
        "from sklearn.ensemble import RandomForestClassifier\n",
        "clf = RandomForestClassifier(n_estimators=100, max_depth=2,random_state=0)\n",
        "\n",
        "def transform(input_texts):\n",
        "    X = []\n",
        "    for text in input_texts:\n",
        "        X.append([\n",
        "            has_bike_keywords(text),\n",
        "            has_parking_keywords(text),\n",
        "            has_safety_keywords(text),\n",
        "            has_car_keywords(text),\n",
        "            has_block_keywords(text),\n",
        "        ])\n",
        "    return X\n",
        "\n",
        "X = transform(train_texts)\n",
        "\n",
        "clf.fit(X, train_labels)"
      ],
      "execution_count": 0,
      "outputs": []
    }
  ]
}