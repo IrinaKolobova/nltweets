{
  "nbformat": 4,
  "nbformat_minor": 0,
  "metadata": {
    "colab": {
      "name": "Learning_Functions_Investigation.ipynb",
      "version": "0.3.2",
      "provenance": []
    },
    "kernelspec": {
      "name": "python3",
      "display_name": "Python 3"
    }
  },
  "cells": [
    {
      "metadata": {
        "id": "KRYBiagkWRLg",
        "colab_type": "code",
        "colab": {}
      },
      "cell_type": "code",
      "source": [
        "def append_plurals(keywords):\n",
        "    results = []\n",
        "    for keyword in keywords:\n",
        "        if keyword[-1] == \"s\":\n",
        "            results.append(keyword + \"es\")\n",
        "        else:\n",
        "            results.append(keyword + \"s\")\n",
        "    return set(results)\n",
        "\n",
        "def has_bike_keywords(x):\n",
        "    keywords = set([\"bike\", \"bicycle\", \"lane\", \"bikelane\", \"cyclist\", \"@FordGoBike\"])\n",
        "    keywords = append_plurals(keywords)\n",
        "    for token in x.strip().split():\n",
        "        if token in keywords:\n",
        "            return True\n",
        "    return False"
      ],
      "execution_count": 0,
      "outputs": []
    },
    {
      "metadata": {
        "id": "id3uO_OGePmg",
        "colab_type": "code",
        "colab": {}
      },
      "cell_type": "code",
      "source": [
        "# positive\n",
        "positive_examples = ['Only one thing to do @sfmta_muni - add more angled Parking to our city core anytime there\\xe2\\x80\\x99s a street project! https://t.co/l24mH8YpYW',\n",
        "'ATTN: IB #LTaraval blocked at Taraval and 24th by #SFPD activity.',\n",
        "\"I'm seeing soft-hit posts and a painted bulb-out in photos. Since there is clearly a need, perhaps @sfmta_muni can replace those with infrastructure that's, I dunno, maybe a little harder to drive your car through?\\n@VisionZeroSF @walksf #ZeroVision\\n\\nhttps://t.co/2LBt3iJ0Wv\",\n",
        "'Big thanks to @sfmta_muni &amp; our contact George Reynolds &amp; team for completing additional crosswalk striping, street legends, plus many other safety improvements #fixitbernalheights https://t.co/FXeusc1o7q',\n",
        "\"I keep hearing SFPark failed. San Francisco's demand-based parking price pilot did not fail. Pilot ended, lessons learned and @sfmta_muni adopted the approach (with tweaks) across ALL SF metered parking. Still working now without fuss. https://t.co/1VQsJ4v7Lv @jvhpt @DonaldShoup\",\n",
        "'The @sfmta_muni chose scooter companies that do not have the product figured out. \\n\\nSee above for Scoot. Skip required scooters off the street during our brief rain. \\n\\nScoot and Skip should be given a chance, not a duopoly!\\n\\nSF, please take advantage of VCs losing money!',\n",
        "'Car culture is @sfmta_muni allowing every driving lane of Folsom between 4th and 5th to be used for prepping/loading an auto show @MosconeCenter , pushing drivers into unprotected bikelane without even a single cone. @JaneKim @sfbike https://t.co/Za6PKIHbSU',\n",
        "'@drivingmzstacey @barbchamberlain @copenhagenize @jump_rides @sfmta_muni Mobility priority: pedestrians, skateboards, bikes, escooters and ebikes, transit, delivery, ......... and cars. @LondonBreed How\\xe2\\x80\\x99s this going?',\n",
        "'@sfmta_muni , I filed a protest for a parking ticket I received. I got the following confirmation: Your request for an Administrative Review for citation number 901562513 has been submitted successfully on 09/07/2018 at 08:18 PM.',\n",
        "'@KCGrock @BrinkmanCheryl @JaneKim @AaronPeskin @transpocrat @NagayaNikki this is a HUGE hole in @sfmta_muni and @sfpublicworks implementation of better streets. Protection for cyclists (and peds) is almost never provided during construction\\xe2\\x80\\x94all it takes is orange cones and signs! See 2nd street right now.',\n",
        "'@taylorahlgren @SFUnified @SF311 @sfmta_muni @sfbike @HillaryRonen An obvious spot for protection but @sfmta_muni will spend a few years studying it. @SFMTrA help!',\n",
        "'@dgouldin @sfmta_muni I get free parking everyday! Why should Sunday be any different?',\n",
        "'car with @SFUnified teacher permit in window illegally parked at Rainbow Grocery @SF311 need protected bikelane here @sfmta_muni @sfbike @HillaryRonen https://t.co/xL0YrZkSI9',\n",
        "\"@djconnel @transbay @sfmta_muni @AaronPeskin @FordGoBike @maddow In all seriousness, does anyone know why he's so anti bike? He's the worst of all of them ... there must be a reason.\",\n",
        "'@MayUseFullLane @transbay @sfmta_muni @AaronPeskin LOL @aaronpeskin:  was just at SFMUNI hearing where he killed, for the fifth time, attempt to place @fordgobike station in North Beach.  \\xe2\\x80\\x9cWatch what they do, not what they say\\xe2\\x80\\x9d - @maddow',\n",
        "'Hey @sfmta_muni do you have Black Friday sales on parking tickets? -broke college student asking',\n",
        "'@sfmta_muni what if we moved the bike lane from Kirkham to Judah and made the #NJudah move faster - like this awesome street in Amsterdam. Apply to Church street too past 24th, oh and Taraval. https://t.co/qFHMeRthyk',\n",
        "'HeadsUp: For complete details on parking enforcement on #Thanksgiving and #BlackFriday: https://t.co/Nze58CnkuI',\n",
        "'@marijuanadotorg @jamisonsf @SF311 @sfmta_muni Nice find John.  This battle is so old and tiring',\n",
        "'@jamisonsf @SF311 @sfmta_muni This goes way back Jamison. Perhaps you recall 1996 when Muni had the audacity to try installing platforms on Church Street. Small merchants fighting for parking screwed them every step of the way. @sfmta_muni is not always the bad guy. Parking addicts can be pretty difficult. https://t.co/NO8LDHYQvV',\n",
        "'Hey @sfmta_muni, I see you\\xe2\\x80\\x99re now promoting the protected 17th st bike lanes you\\xe2\\x80\\x99d so long opposed.\\n\\nDoes this mean bike safety is finally being taken seriously?\\n\\nCan I count on you to stop refusing to consider protected bike lanes as part of the Upper Market \\xe2\\x80\\x9cSafety\\xe2\\x80\\x9d Project? https://t.co/VlQaoBIGgc',\n",
        "\"@SF311 @marijuanadotorg 11/11 aside from stupidity, arrogance, and a fear of change, I just don't get why SF want to make cycling as dangerous as possible. All I can think is some idiotic notion everyone should drive and nobody should ride a bike. It seems very counter to @sfmta_muni's supposed goals. https://t.co/5rbC6VHZ0u\",\n",
        "\"@SF311 @marijuanadotorg 10/11 It's not like there are things the City can do ^BC, this is a spot @SFMTA_Muni wouldn't install a loading zone in front of a UPS store.\\n\\nShocker: without a place to pull over, UPS and other delivery trucks park directly in the bike lane. https://t.co/5izpgeuhPz\",\n",
        "\"@SF311 @marijuanadotorg 9/11 Hey ^BC, since the @sfmta_muni has pretty well proved they couldn't give a shit. Is there another agency which takes safety seriously? @SFPD perhaps? https://t.co/1tlE03uxXJ\",\n",
        "\"@SF311 @marijuanadotorg 8/11 Honestly ^BC, I don't think any amount of evidence will convince @sfmta_muni that a human life is more important than the freedom to park wherever you want, legally or not. https://t.co/NRKElLmony\",\n",
        "\"@SF311 @marijuanadotorg 7/11 oh no ^BC, this is just a partial catalog of photos. I've already sent @sfmta_muni and been ignored, but maybe you've got a little more humanity and compassion towards you fellow man than @sfmta_muni. https://t.co/aOynlRANX9\",\n",
        "\"@SF311 @marijuanadotorg 6/11 I think you're getting the drift ^BC, that for all of your diligence, the @sfmta_muni reaction is that same for you as every law-abiding citizen:\\n\\nFUCK YOU! GET A CAR! PARK WHEREVER THE FUCK YOU WANT! ESPECIALLY BIKE LANES! https://t.co/E33D6OppGK\",\n",
        "\"@SF311 @marijuanadotorg 5/11 In this case ^BC, @sfmta_muni wouldn't respond to a blocked bike lane because I didn't have the address for the Castro Station emergency exit it was parked next to. \\n\\nI had it and called the @SMFTA_Muni reception a b*tch for demanding an address they don't publish. https://t.co/3Y1Rl2aFGh\",\n",
        "\"@SF311 @marijuanadotorg 4/11 I just don't get why @SFMTA_Muni is so steadfastly against bike safety, when many of the motorists are also using the bike lane to avoid paying the meter. https://t.co/Z8aErSJdAo\",\n",
        "'@SF311 @marijuanadotorg 3/11 Even when there is plenty of parking, @SFMTA_Muni seems to prefer motorists park in the bike lane than park legally and pay the meter. https://t.co/viB0hoM7Xf',\n",
        "\"@SF311 @marijuanadotorg 2/11 even as I've reported all these motorists trying to kill cyclists by blocking the bike lanes in real time ^BS, the @sfmta_muni response has generally been they won't send a PCO to issue a ticket. https://t.co/qoaIhJA4Xf\",\n",
        "\"@SF311 @marijuanadotorg 1/11 I'm going to trust your sincerity ^BS and trust when you say you're going to forward these tweets in the right direction. Like I've said, I have a large stockpile of evidence @sfmta_muni seems unwilling to acknowledge even exists. Maybe you'll take it seriously. https://t.co/nyPyEnRit9\",\n",
        "'Can we get some enforcement on Valencia? Not one but two cars... @sfmta_muni @sfbike https://t.co/35FR4Oz7vN',\n",
        "\"@sfmta_muni  this is wrong!  Why are cars parked in front of the bus stop?  #15andRhodeIsland  This is annoying when buses don't stop when drivers can't see you. @LondonBreed\",\n",
        "'The light timing on Folsom in SoMa is really frustrating\\xe2\\x80\\x94almost like they\\xe2\\x80\\x99re designed for bicyclists to hit every red light. Let\\xe2\\x80\\x99s put a green wave here! @sfmta_muni @sfbike',\n",
        "\"@jwalshie @sfmta_muni The protected bike lanes can't come soon enough. (Won't start until Central Subway is open along 4th...)\",\n",
        "'@Gregster56 @sfexaminer @AaronPeskin @TheMarinaTimes @sfmta_muni @UBERTRUTH2 @Uber @lyft TNC**',\n",
        "'Valencia St. &amp; Duboce - Another bicyclist was maimed last night with zero media coverage while @sfmta_muni drags its feet on installing protected bike lanes. So far, two blocks of this terrible street have protections and the rest is \"manyana.\" Thanks for nothing @LondonBreed. https://t.co/t2QJFCLPOC',\n",
        "'I don\\xe2\\x80\\x99t like SF\\xe2\\x80\\x99s new #VisionZero traffic death campaign. \\n\\nInstead of making deadly intersections safer, the City is victim-blaming. \\n\\nIs the goal to discourage me from crossing intersections or end up like John Lowell @sfmta_muni? Do you want me to Uber across the street? https://t.co/x5MEstTdBE',\n",
        "'@brezina @lauren_sailor @sfbike @SFMTrA @sfmta_muni 2/2 - If motorists have trouble with the obscure english phrase \\xe2\\x80\\x9cbike lane\\xe2\\x80\\x9d, shouldn\\xe2\\x80\\x99t the @sfmta_muni do something to educate drivers? \\n\\nMaybe the SFMTA should use a label less confusing than \\xe2\\x80\\x9cbike lane\\xe2\\x80\\x9d',\n",
        "'@hunterrible @MayUseFullLane @brezina @jamisonsf @sfbike @SFMTrA @sfmta_muni @CaseyHildreth @sfpublicworks Agreed with that as well. I was pleased to see in Amsterdam how all the street construction projects include cone lane shifts for bike lanes as well as cars, the defacto solution in SF seems to be block bike lane, mix with traffic and cones for car lane shift',\n",
        "'@brezina @lauren_sailor @sfbike @SFMTrA @sfmta_muni 1/2 - How long of a grace period do you suggest motorists be exempt from being cited for parking in a bike lane?\\n\\nInstead of driving by the immediately-blocked bike lane on Valenica, the @sfmta_muni parking control officer could have issued warnings. Right? https://t.co/SQEm2Zocc3',\n",
        "'@SF311 OK. Sidewalk it is. I can\\xe2\\x80\\x99t stress how absurd it is that @sfmta_muni ride on the sidewalk instead of citing drivers blocking the bike lanes.',\n",
        "'@kfarr @MayUseFullLane @brezina @jamisonsf @sfbike @SFMTrA @sfmta_muni @CaseyHildreth In my observations of SFMTA project rollouts, contractors do little to nothing to make streets safe during construction (removing or blocking sidewalks/biklanes/bus stops &amp; letting drivers do whatever). Clearly @sfpublicworks has an education issue with its staff / contractors.',\n",
        "\"@kfarr @MayUseFullLane @brezina @jamisonsf @sfbike @SFMTrA @sfmta_muni @CaseyHildreth It is so easy to put orange cones out to temporarily protect cyclists/pedestrians. Instead, it's a parking free for all.\",\n",
        "\"@brezina @jamisonsf @sfbike @SFMTrA @sfmta_muni OTOH, I think it's fair to be upset at SFMTA planners who... apparently didn't learn anything from their own past mistakes on Valencia?! Anyone who paid attention to that mess knows that curbs must be painted red the *instant* curbside parking is removed.\\nhttps://t.co/FNJbH2mkDP\",\n",
        "\"@brezina @hunterrible @jamisonsf @sfbike @SFMTrA @sfmta_muni @CaseyHildreth Raised bikeway??? Omg. We already know that doesn't work (Market St pilot, Masonic). How stupid would it be to throw away all this effort and money just to get another green lane for uber dropoffs?\",\n",
        "\"@jamisonsf @sfbike @SFMTrA @brezina @sfmta_muni frustrating, but there's smtg to be said for an adjustment period w/ education &amp; warnings. i've already heard enough complaints about bike lanes, and aggressive ticketing on brand-new projects (lacking red curbs &amp; official-looking markings) might just be more fuel for the haters.\",\n",
        "'@brezina @hunterrible @sfbike @SFMTrA @sfmta_muni @CaseyHildreth Masonic is a pile of shit. The \\xe2\\x80\\x9cbike\\xe2\\x80\\x9d lanes are badly paved and used and used for parking.\\n\\nMore than one asshole driver honked at me for using the traffic lane, so that just leaves the sidewalk. \\n\\nOr a car... which I could park for free in the bike lane to save on meter fees.',\n",
        "\"@SF311 What inspections have there been of this intersection? The 2 lanes that used to be 3 aren't even clearly marked. Cars drive up onto the curb regularly. Accidents &amp; near-accidents daily. \\n@sfmta_muni @sfgov @sfpublicworks @sfplanning\",\n",
        "'@hunterrible @jamisonsf @sfbike @SFMTrA @sfmta_muni @CaseyHildreth I\\xe2\\x80\\x99m not super knowledgeable on the project.  But I do know the design is not a protected bike lane.  It is a slightly raised curbside lane like Masonic.  And sfmta needs to install safe hit posts to keep cars out. Nothing works in America except physical barriers',\n",
        "\"@SFTRU @sfmta_muni I didn't know @alicelgbtdems were experts in transportation. It would be nice if they could advocate for parking enforcement or more bike lanes or corner ramps for disabled pedestrians or curb bulb outs. The article should name the individuals speaking for the club. #AstroTurf\",\n",
        "\"@brezina @sfbike @SFMTrA @sfmta_muni So even the pricier posts are cheaper than a single @SFMTA_Muni citation. \\n\\nHad SFMTA responded, and cited just the six cars I reported on this half-block instead of driving by they'd have more than half-paid for the posts.\",\n",
        "'@jamisonsf @sfbike @SFMTrA @brezina @sfmta_muni What I wanna know is why 2nd street is still suck a cluster f*ck during construction\\xe2\\x80\\x94all cars freely allowed to block new bikeway and cyclists forced into rough pavement with cars/taxis/buses. No temporary orange cones even. @CaseyHildreth @brezina any ideas?',\n",
        "'@jamisonsf @sfmta_muni @SF311 He is right on this one. Too many slobs are doing this and it is becoming obnoxious. A little enforcement would be a great thing on this block.',\n",
        "'Hey @sfbike @SFMTrA @brezina, how much do a dozen soft-hit posts cost? \\n\\nI wouldn\\xe2\\x80\\x99t be surpised if they\\xe2\\x80\\x99re cheeper than the cost of lost fine revenue which @sfmta_muni\\xe2\\x80\\x99s PCO gave up driving by not ticking the cars parked in Valencia\\xe2\\x80\\x99s new \\xe2\\x80\\x9cbike lane\\xe2\\x80\\x9d before it was protected. https://t.co/uX50x9u4oG',\n",
        "'Hey @sfmta_muni @sf311, a motorist is using the Howard Street bike lane between 10th and 11th for parking. \\n\\nThis can\\xe2\\x80\\x99t be the new \\xe2\\x80\\x9cbike\\xe2\\x80\\x9d lane I\\xe2\\x80\\x99ve heard about since that is clearly a car in it making it unusable and forcing cyclists onto the sidewalk for safety. https://t.co/Brbzu9RjwJ',\n",
        "'@jodirren @exadyto @sfmta_muni @SF311 @LondonBreed @JaneKim @RafaelMandelman Until we do have usable bike lanes, I assume it\\xe2\\x80\\x99s A-OK with everyone that cyclists just go ahead and ride on the sidewalk when the bike lanes are blocked?\\n\\nIt is what @sfmta_muni\\xe2\\x80\\x99s own parking control officers do when there\\xe2\\x80\\x99s no one enforcing the bike lanes after all. https://t.co/HKyWjK1G0A',\n",
        "'@SF311 When will that be @SF311 @sfmta_muni? You\\xe2\\x80\\x99ve been giving the same canned response for years. \\n\\nIs this what targetted enforcement looks like? How much more thousands of photos do I need to send you to reach your enforcement threshold? It\\xe2\\x80\\x99s only after a few fatalities, isn\\xe2\\x80\\x99t it?',\n",
        "'I know @sfmta_muni @sf311: you don\\xe2\\x80\\x99t respond to blocked bike lanes, but this is a report that SFMTA\\xe2\\x80\\x99s 17th street protected bike lanes don\\xe2\\x80\\x99t work.\\n\\nWill the protected bike lanes be completed? Enforced? Or is this what passes for a successful \\xe2\\x80\\x9cprotected\\xe2\\x80\\x9d bike lane? https://t.co/kIN5ZZqIK7',\n",
        "'@LondonBreed @sfgov @sfmta_muni whomever is in charge of this: having an undercover person taking pics of vehicles plates to later ticket them is not okay! Increase the tax on the companies instead\\xe2\\x80\\x94 leave hardworking ppl alone! #lyft #Uber #rideshares #sf saw it on 4th and Twsnd.',\n",
        "'@jodirren @exadyto @sfmta_muni @SF311 @LondonBreed @JaneKim @RafaelMandelman Why @LondonBreed @JaneKim @RafaelMandelman is it so important the City deprive itself meter revenue to encourage more driving?\\n\\nEvery Sunday, parking is free and Muni riders are punished for not driving, why punish cyclists so motorists don\\xe2\\x80\\x99t have to pull over and pay the meter?',\n",
        "'@shanand @jamisonsf @sfmta_muni @SF311 Not gonna happen until we start forcing the issue\\xe2\\x80\\xa6 it\\xe2\\x80\\x99s been this way for years. Bikes and the people who ride them are \\xe2\\x80\\x9ccute\\xe2\\x80\\x9d and ride at their own peril.',\n",
        "'New bike lanes on Howard at 9th are more like \\xe2\\x80\\x9czero vision\\xe2\\x80\\x9d than \\xe2\\x80\\x9cvision zero\\xe2\\x80\\x9d  wtf. \\n\\n@sfmta_muni @sfbike @MattHaneySF @LondonBreed @SFBikeParty @sfbos #bikelane  #SanFrancisco #whosothis #crazy https://t.co/qLdqFCAYoU',\n",
        "'Hey @sfmta_muni @sf311, two motorists are parked in Valencia street between 15th and 16th.\\n\\nSince the bike lane ends at 15th, is that where you want cyclists to start using the sidewalk? https://t.co/6XqIgSyAc1',\n",
        "'@jamisonsf @burritojustice @sfmta_muni @SF311 I had to drop off someone on that block tonight. The street parking needs to be eliminated entirely on that block, and between 17-18th. \\n\\nPassenger loading and curb protected bike lanes, ONLY. \\n\\nNeed to park? Use a garage.',\n",
        "'@kithodge @sfmta_muni @sfbike *parking',\n",
        "\"On July 26 I submitted a bike rack request on my block.\\n\\n@sfmta_muni said it would be there in 3-5 months.\\n\\nOn Oct 5 they surveyed and painted an orange line where it would go.\\n\\nThen they said it'd be there at the end of November.\\n\\nIt wasn't.\",\n",
        "'@SF311 @JspiderSF Also @sfmta_muni is there also a response time goal for enforcing vehicles stopped or parked in bike lanes? Or will you just keep \"gathering data\" indefinitely and never act or enforce anything. So much for safety...',\n",
        "\"@jamisonsf @sfmta_muni @brezina Hey, at least when they're on bikes they're not the ones *blocking* the bike lane.\\n\\nYesterday on Valencia between 16th &amp; 17th during evening rush hour, I watched a PCO block the lane with their vehicle for 5 minutes while they ticketed a parked motorcycle.\",\n",
        "'@marijuanadotorg @jamisonsf @sfmta_muni @brezina True, you have to take the lane on Market Street from Castro to Portola.  It\\xe2\\x80\\x99s ridiculous that we don\\xe2\\x80\\x99t have a bike lane on the easiest path across Twin Peaks.  Please add protected bike lanes and traffic calming bumps on Market Street!',\n",
        "'@printtemps @sfmta_muni bUt WhErE wiLl tHeY pArK',\n",
        "'@CleanUpWestSoma @sfmta_muni @sfbike @MattHaneySF @LondonBreed @SFBikeParty @sfbos Yes, private guys have no business on the streets of San Francisco unless they are @Uber or @lyft. Why? Because they are the only entities that donate to the pols in SF. What doesn\\xe2\\x80\\x99t you get?',\n",
        "'@jamisonsf @sfmta_muni @brezina That is exactly what I do when the streets are not safe for any number of reasons. The Upper Market Street Bike Path is suicide. I call it #SafetyFirst',\n",
        "'Until @sfmta_muni decides cyclists should be allowed to use the bike lanes @brezina, should we ride on the sidewalk?\\n\\nThat\\xe2\\x80\\x99s what SFMTA\\xe2\\x80\\x99s parking control officers do when the bike lane is blocked so they can\\xe2\\x80\\x99t have a problem with anyone elses doing it. https://t.co/rfFbWdaIuA',\n",
        "'@brezina @exadyto @sfmta_muni @SF311 How many thousands of cyclists did it take to convince @sfmta_muni bikes exist? \\n\\nAt least a few dosen cyclists use Upper Market on a daily basis. It\\xe2\\x80\\x99s because motorists haven\\xe2\\x80\\x99t killed enough yet, isn\\xe2\\x80\\x99t it? \\n\\nHow many cyclists have been killed on Upper Market @sf311?',\n",
        "'@kithodge @sfmta_muni @sfbike It is ridiculous. They use it as a paring lane.',\n",
        "'@AndrewKDavidson @BrinkmanCheryl @transpocrat @sfbike But fixing it would go against the car-focused infrastructure that @sfmta_muni and @AaronPeskin love to champion.',\n",
        "\"@jamisonsf @exadyto @sfmta_muni @SF311 They're not understaffed: they waste resources enforcing RPP and street cleaning violations like they are a crime against humanity and do jack about violations that actually are a safety threat, e.g. double parking, blocked bike lanes, blocked sidewalks, blocked crosswalks, etc.\",\n",
        "'Hey @sfmta_muni @sf311, another truck driver has decided both block the bike lanes and screw you out of meter funds. \\n\\nMarket at Noe. https://t.co/26rtgz9sAw',\n",
        "'I didn\\xe2\\x80\\x99t think my jaded eyes could be so surprised, but the level of cars/vans/trucks parked on the entirety of the brand new 2nd St bike lane is truly something to behold. @sfmta_muni It would take me hours to report every single one. @sfbike',\n",
        "'@sfmta_muni 2015, Im disabled on crutches living in my car and having trouble with smog.  My registration was out a few months and I received a $250 ticket for expired tags.  I think I ended up with a total of 7 tickets for the same thing.  Vehicle was booted and towed.  Disabled, homeless.',\n",
        "\"@brezina @jamisonsf @sfmta_muni @SF311 I wouldn't even ride on Upper Valencia \\xe2\\x80\\x94 the degree to which it had been coopted by ride sharing etc was insane. Basically a multi-block drop-off zone...\",\n",
        "'@jamisonsf @exadyto @sfmta_muni @SF311 Also Valencia already had 1000s of riders.  So we were able to put our huge political pressure.  Upper market has lower volumes, but we will come for that lane soon.  It is insanely dangerous at those speeds',\n",
        "'@jamisonsf @exadyto @sfmta_muni @SF311 It is definitely safety.  These are the 4  blocks of Valencia with the highest rate of collisions.  And the whole street is a high injury corridor.  There are 1.2 reported collisions per week! Many more unreported',\n",
        "'@JaneKim @sfmta_muni @sfbike @UP4LIFE @walksf @WestBayCenterSF When you step off the bus on Townsend, you step into the bike corridor where you are screamed at by bicyclist in the new fancy bike lane. Great planning \\xf0\\x9f\\x91\\x8d\\xf0\\x9f\\x8f\\xbd',\n",
        "'@brezina @exadyto @sfmta_muni @SF311 So what made @sfmta_muni finally install a bike lane - if only as a temporary pilot project - on Valencia? \\n\\nIt\\xe2\\x80\\x99s not safety.',\n",
        "'@exadyto @sfmta_muni @SF311 Even though we see it constantly, @sfmta_muni absolutely refuses to install bike lanes and knowingly understaffs parking enforcement.',\n",
        "'This is the new Valencia protected bike lane in action during school pickup. People &amp; bikes mix safely.  Cars are the danger and can stay out there with other cars.  Great design @sfmta_muni! Cc @kimmie_leung @transpocrat https://t.co/1nHmeyyxrz',\n",
        "'@SanFranciscoJim @sfmta_muni @kimmie_leung @transpocrat Yeeeah..  I mention it in the audio.  A protected bike lane with a car parked in it is actually still better than an unprotected lane, inches away from distracted drivers',\n",
        "'@brezina @sfmta_muni @kimmie_leung @transpocrat Except for the car parked in it',\n",
        "'@exadyto @jamisonsf @sfmta_muni @SF311 Yup.  No more data needs to be collected 311/sfmta.  Act now.  I\\xe2\\x80\\x99ve only once seen a pco ticketing on this street and I walk it daily',\n",
        "'@lawrencecoburn @sfmta_muni @kimmie_leung @transpocrat Unfortunately there aren\\xe2\\x80\\x99t many near term projects planned across the city, and the current timeline for the rest of Valencia is too long. Every major street in soma needs a protected lane + Kearny, Montgomery, sansome, Bayshore, alamany, Embarcadero. Bay. Polk.Etc',\n",
        "'Why is the 18th Street sidewalk closed from Bryant to Florida on the south side without traffic cones to replace it? @HillaryRonen @sfmta_muni https://t.co/He3m7pVSsu',\n",
        "'@sfmta_muni wrongfully issued me a $76 parking ticket after I had payed for the meter for 4 hours. I parked at 1:11PM and was issued the ticket at 2:11PM. Is this a joke? Can\\xe2\\x80\\x99t imagine how many other people they do this to.',\n",
        "'@sfmta_muni the second ticket. Expiration should have been around four minutes later. I don\\xe2\\x80\\x99t really care about the quarter, but this is BS. You have the license plate, you can track it. I should be able to add coins like a regular meter. The clock shouldn\\xe2\\x80\\x99t reset when I  add money.  2/2',\n",
        "'@sfmta_muni New machine at the parking lot on Castro between 17th and 18th doesn\\xe2\\x80\\x99t allow you to add money to your stay. See above. $.25= 6 and a half minutes. I put a quarter in, realized it wasn\\xe2\\x80\\x99t enough time. Went back to my car, put more money in, clock restarted. Look at the time on  1/2',\n",
        "'@sfmta_muni Congratulations, you gave me another street sweeping citation within 3 minutes of the posted move time. Where does the enormous sum of money generated with parking citations go? Can\\xe2\\x80\\x99t find anything online and the room for improvement at SFMTA gives reason for concern',\n",
        "'@jamisonsf @sfmta_muni @SF311 This is a beyond daily occurrence... delivery trucks are basically a constant presence on this block.',\n",
        "'@sfmta_muni 1496041 blocked the road and then nearly hit me while I was on my bike.',\n",
        "'@jamisonsf @sfmta_muni @SF311 blocking a yellow zone, no less. The SFPD and SFMTA traffic enforcement teams should have zero tolerance for double parking like this. Aggressive, sustained campaign of tickets and towing is what is going to solve this problem. When can we start enforcement?',\n",
        "'Hey @sfmta_muni @sf311, I know you\\xe2\\x80\\x99re OK with blocked bike lanes and don\\xe2\\x80\\x99t care about the lost meter revenue, but a truck driver is parked in the Upper Market bike lanes. Market at Noe. https://t.co/q227uEUdiE',\n",
        "\"@danielconvissor @sfbike @sfmta_muni @skip_sf @KCGrock It looks narrower because of the white striping, but it's smaller at these points.  I observed that this made cyclists slow down in front of the school boarding zones which is good for safety.\",\n",
        "\"@paulvaldezsf @sfbike @sfmta_muni @skip_sf @KCGrock Is it 5' wide per standards? Hopefully it's just the photos making it seem narrow.\",\n",
        "'@sfmta_muni @LondonBreed Save your sound bites please. I\\xe2\\x80\\x99m not interested. That road is congested &amp; unsafe already. Removing a lane has created more congestion &amp; more frustrated drivers, making it more unsafe for peds &amp; cyclists. But go on, keep pushing your idealistic plans. \\xf0\\x9f\\x99\\x84',\n",
        "'I know @sfmta_muni @sf311: you won\\xe2\\x80\\x99t consider bike lanes, knowingly understaff Parking Control officers, and would rather be cheated of meter revenue than ticket a driver for blocking a bike lane.\\n\\nWhether you accept it or not, drivers keep blocking the Upoer Market bike lanes. https://t.co/NcsZXzWHT1',\n",
        "'Join us this morning at 11 am with @JaneKim @sfmta_muni to celebrate Howard protected bike lanes! @UP4LIFE, 1038 Howard',\n",
        "'@graue @sfmta_muni This happens regularly on this block. Almost like it would be easy to ticket here. But these aren\\xe2\\x80\\x99t scooters, so.',\n",
        "\"I just pedaled some lunchtime errands on Polk Street (hello, Brownie's), got to beta-test the new state-of-the-art SF Rte 25 bikeway, evidently there are still a few details left to refine  @sfmta_muni @sfbike #OperationalizeEverydayBicycling https://t.co/ei49uXF5rq\"]"
      ],
      "execution_count": 0,
      "outputs": []
    },
    {
      "metadata": {
        "id": "PDK5x0EZivG2",
        "colab_type": "code",
        "colab": {
          "base_uri": "https://localhost:8080/",
          "height": 34
        },
        "outputId": "92304d03-cb09-45c4-85c3-0f84f43f6ba8"
      },
      "cell_type": "code",
      "source": [
        "correct = 0\n",
        "total = 0\n",
        "for example in positive_examples:\n",
        "    if has_bike_keywords(example):\n",
        "        correct += 1\n",
        "    total += 1\n",
        "print(correct/total)"
      ],
      "execution_count": 10,
      "outputs": [
        {
          "output_type": "stream",
          "text": [
            "0.22018348623853212\n"
          ],
          "name": "stdout"
        }
      ]
    },
    {
      "metadata": {
        "id": "gNEePnUhi2yN",
        "colab_type": "code",
        "colab": {}
      },
      "cell_type": "code",
      "source": [
        ""
      ],
      "execution_count": 0,
      "outputs": []
    }
  ]
}