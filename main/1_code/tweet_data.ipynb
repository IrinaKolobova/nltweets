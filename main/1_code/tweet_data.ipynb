{
 "cells": [
  {
   "cell_type": "code",
   "execution_count": 1,
   "metadata": {},
   "outputs": [
    {
     "data": {
      "application/javascript": [
       "IPython.notebook.set_autosave_interval(45000)"
      ]
     },
     "metadata": {},
     "output_type": "display_data"
    },
    {
     "name": "stdout",
     "output_type": "stream",
     "text": [
      "Autosaving every 45 seconds\n"
     ]
    }
   ],
   "source": [
    "%autosave 45\n",
    "#!/usr/bin/python\n",
    "# -*- coding: utf-8 -*-\n",
    "\n",
    "import tweepy\n",
    "import spacy\n",
    "import csv\n",
    "import json\n",
    "import pandas as pd\n",
    "import numpy as py\n",
    "import os"
   ]
  },
  {
   "cell_type": "code",
   "execution_count": 2,
   "metadata": {},
   "outputs": [],
   "source": [
    "# Twitter API credentials\n",
    "credentialsPath = r'..\\0_data\\credentials'\n",
    "with open(os.path.join(credentialsPath, 'twitter_credentials.json')) as cred_data:\n",
    "    info = json.load(cred_data)\n",
    "    consumer_key = info['CONSUMER_KEY']\n",
    "    consumer_secret = info['CONSUMER_SECRET']\n",
    "    access_key = info['ACCESS_KEY']\n",
    "    access_secret = info['ACCESS_SECRET']\n",
    "\n",
    "# Create the api endpoint\n",
    "\n",
    "auth = tweepy.OAuthHandler(consumer_key, consumer_secret)\n",
    "api = tweepy.API(auth)"
   ]
  },
  {
   "cell_type": "code",
   "execution_count": 3,
   "metadata": {},
   "outputs": [
    {
     "name": "stdout",
     "output_type": "stream",
     "text": [
      "Enter the term you want to scrape- @sfmta_muni\n"
     ]
    }
   ],
   "source": [
    "# Convert to data frame\n",
    "def toDataFrame(tweets):\n",
    "    DataSet = pd.DataFrame()\n",
    "    \n",
    "    # Get tweet information\n",
    "    tweetIDs = []\n",
    "    for tweet in tweets:\n",
    "        tweetIDs.append(tweet.id)              \n",
    "    DataSet['Tweet ID'] = [ID for ID in tweetIDs]\n",
    "        \n",
    "    tweetsText = []\n",
    "    for tweet in tweets:\n",
    "            if 'retweeted_status' in  dir(tweet):\n",
    "                tweetsText.append(tweet.retweeted_status.full_text.encode('utf-8'))                \n",
    "            else:\n",
    "                tweetsText.append(tweet.full_text.encode('utf-8'))  \n",
    "    DataSet['Text'] = [text for text in tweetsText]\n",
    "    \n",
    "    # Get user information\n",
    "    DataSet['User'] = [tweet.user.name.encode('utf-8') for tweet in tweets]\n",
    "    \n",
    "    DataSet['User ID'] = [tweet.user.id for tweet in tweets]\n",
    "    \n",
    "    # Get media\n",
    "    tweetsImages = []\n",
    "    for tweet in tweets:\n",
    "        if 'media' in tweet.entities:\n",
    "            for image in tweet.entities['media']:\n",
    "                tweetsImages.append(image['media_url'])\n",
    "        else:\n",
    "            tweetsImages.append('')  \n",
    "    DataSet['Image Urls'] = [image for image in tweetsImages]\n",
    "          \n",
    "    # Get location    \n",
    "    tweetsLongitudes = []\n",
    "    for tweet in tweets:\n",
    "        if tweet.coordinates is not None:\n",
    "            tweetsLongitudes.append(tweet.coordinates[\"coordinates\"][0])\n",
    "        else:\n",
    "            tweetsLongitudes.append('')\n",
    "    DataSet['Longitude'] = [longitude for longitude in tweetsLongitudes]\n",
    "    \n",
    "    tweetsLatitudes = []\n",
    "    for tweet in tweets:\n",
    "        if tweet.coordinates is not None:\n",
    "            tweetsLatitudes.append(tweet.coordinates[\"coordinates\"][1])\n",
    "        else:\n",
    "            tweetsLatitudes.append('')\n",
    "    DataSet['Latitude'] = [latitude for latitude in tweetsLatitudes]\n",
    "    \n",
    "    locations = []\n",
    "    for tweet in tweets:\n",
    "        if tweet.user.location is not None:\n",
    "            locations.append(tweet.user.location.encode('utf-8'))\n",
    "        else:\n",
    "            locations.append(np.nan)            \n",
    "    DataSet['Location'] = [loc for loc in locations]\n",
    "    \n",
    "    # Get other fields  \n",
    "    tweetsPosted = []\n",
    "    for tweet in tweets:\n",
    "        tweetsPosted.append(tweet.created_at)\n",
    "    DataSet['Created'] = [created for created in tweetsPosted]\n",
    "    \n",
    "    return DataSet\n",
    "\n",
    "# Specify the term you want to scrape\n",
    "mention = input('Enter the term you want to scrape- ')\n",
    "\n",
    "results = []\n",
    "\n",
    "for tweet_info in tweepy.Cursor(api.search, q=mention,\n",
    "                           tweet_mode='extended').items():\n",
    "    results.append(tweet_info)\n",
    "\n",
    "dataframe = toDataFrame(results)"
   ]
  },
  {
   "cell_type": "code",
   "execution_count": 4,
   "metadata": {},
   "outputs": [
    {
     "data": {
      "text/plain": [
       "[('tagger', <spacy.pipeline.Tagger at 0x1c00539c400>),\n",
       " ('parser', <spacy.pipeline.DependencyParser at 0x1c00545fc50>),\n",
       " ('ner', <spacy.pipeline.EntityRecognizer at 0x1c00545fca8>)]"
      ]
     },
     "execution_count": 4,
     "metadata": {},
     "output_type": "execute_result"
    }
   ],
   "source": [
    "# Load the spacy library and English corpus\n",
    "nlp = spacy.load('en')\n",
    "\n",
    "nlp.pipeline"
   ]
  },
  {
   "cell_type": "code",
   "execution_count": 5,
   "metadata": {},
   "outputs": [],
   "source": [
    "from collections import defaultdict\n",
    "\n",
    "# Instantiate cleaned data dictionary\n",
    "cleaned_data = defaultdict(list)\n",
    "\n",
    "# Clean the text data\n",
    "for row in dataframe.itertuples():\n",
    "    tweetid = row[1]\n",
    "    text = row[2].decode('utf-8').encode('ascii', 'ignore').decode('ascii').strip()\n",
    "    user = row[3].decode('utf-8').encode('ascii', 'ignore').decode('ascii').strip()\n",
    "    userid = row[4]\n",
    "    imageurl = row[5]\n",
    "    longitude = row[6]\n",
    "    latitude = row[7]\n",
    "    location = row[8]\n",
    "    created = row[9]\n",
    "    \n",
    "    text_doc = nlp.make_doc(text)\n",
    "    tokens = [token for token in text_doc]\n",
    "    tokens = [token for token in tokens if not token.is_punct]\n",
    "    tokens = [token for token in tokens if token.text != ' ']    \n",
    "    tokens_final = [token.text for token in tokens]\n",
    "    \n",
    "    text = \" \".join(tokens_final).strip()\n",
    "    text = text.replace('\\n', '')\n",
    "    \n",
    "    cleaned_data['Tweet ID'].append(tweetid)\n",
    "    cleaned_data['Text'].append(text)\n",
    "    cleaned_data['User'].append(user)\n",
    "    cleaned_data['User ID'].append(userid)\n",
    "    cleaned_data['Image'].append(imageurl)\n",
    "    cleaned_data['Longitude'].append(longitude)\n",
    "    cleaned_data['Latitude'].append(latitude)\n",
    "    cleaned_data['Location'].append(location)\n",
    "    cleaned_data['Created'].append(created)\n",
    "\n",
    "cleaned_dataframe = pd.DataFrame(cleaned_data)"
   ]
  },
  {
   "cell_type": "code",
   "execution_count": 6,
   "metadata": {},
   "outputs": [
    {
     "name": "stdout",
     "output_type": "stream",
     "text": [
      "Extracted 2125 tweets with @sfmta_muni\n"
     ]
    }
   ],
   "source": [
    "outputPath = r'..\\0_data\\manual'\n",
    "filePath = os.path.join(outputPath,'tweets_with_' + 'mention_' + mention + '.csv')\n",
    "if not os.path.isfile(filePath):\n",
    "    cleaned_dataframe.to_csv(filePath, index=False)\n",
    "else:\n",
    "    with open(filePath, 'a') as file:\n",
    "        cleaned_dataframe.to_csv(file, index = False)\n",
    "print ('Extracted ' + str(len(results)) \n",
    "    + ' tweets with ' + mention)"
   ]
  }
 ],
 "metadata": {
  "kernelspec": {
   "display_name": "Python 3",
   "language": "python",
   "name": "python3"
  },
  "language_info": {
   "codemirror_mode": {
    "name": "ipython",
    "version": 3
   },
   "file_extension": ".py",
   "mimetype": "text/x-python",
   "name": "python",
   "nbconvert_exporter": "python",
   "pygments_lexer": "ipython3",
   "version": "3.6.0"
  }
 },
 "nbformat": 4,
 "nbformat_minor": 2
}
